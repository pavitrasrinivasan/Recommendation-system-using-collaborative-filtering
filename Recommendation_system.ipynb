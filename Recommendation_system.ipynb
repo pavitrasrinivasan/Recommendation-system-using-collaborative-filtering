{
 "cells": [
  {
   "cell_type": "markdown",
   "metadata": {
    "collapsed": true
   },
   "source": [
    "import pandas as pd\n",
    "import numpy as np"
   ]
  },
  {
   "cell_type": "code",
   "execution_count": 16,
   "metadata": {
    "collapsed": true
   },
   "outputs": [],
   "source": [
    "header = ['user_id','item_id','rating','timestamp']\n",
    "df = pd.read_csv('/Users/psrini1/Documents/Python/Recommendation system/ml-100k/u.data', sep ='\\t', names = header)\n",
    "## Extracting specific columns from the dataframe\n",
    "select = [\"user_id\",\"item_id\"]\n",
    "df[select]\n",
    "\n",
    "## Getting the unique count of users / items \n",
    "\n",
    "users = df.user_id.unique().shape[0]\n",
    "users ## 943unique users\n",
    "items = df.item_id.unique().shape[0]\n",
    "items ## 1682 unique movies\n",
    "\n",
    "## Splitting the data using CV \n",
    "from sklearn import cross_validation as cv\n",
    "train_data,test_data = cv.train_test_split(df,test_size = 0.25)\n",
    "\n",
    "## Creating the user-item matrix \n",
    "train_data_matrix = np.zeros((users,items))\n",
    "train_data_matrix\n",
    "\n",
    "test_data_matrix = np.zeros((users,items))\n",
    "\n",
    "## Check what's stored in line\n",
    "##for line in train_data.itertuples():\n",
    "  ##  print(line)\n",
    "\n",
    "for line in train_data.itertuples():\n",
    "    train_data_matrix [line[1]-1,line[2]-1]= line[3]\n",
    "\n",
    "for line in test_data.itertuples():\n",
    "    test_data_matrix[line[1]-1,line[2]-1] =line[3]"
   ]
  },
  {
   "cell_type": "code",
   "execution_count": 17,
   "metadata": {
    "collapsed": true
   },
   "outputs": [],
   "source": [
    "## Calculating item and user based similarity scores \n",
    "\n",
    "from sklearn.metrics.pairwise import pairwise_distances  \n",
    "\n",
    "user_similarity = pairwise_distances(train_data_matrix,metric ='cosine')\n",
    "\n",
    "item_similarity = pairwise_distances(train_data_matrix.T,metric = 'cosine')"
   ]
  },
  {
   "cell_type": "code",
   "execution_count": 18,
   "metadata": {},
   "outputs": [
    {
     "data": {
      "text/plain": [
       "array([ 1450.77991186,  1464.05507047,  1530.62747493, ...,  1681.        ,\n",
       "        1681.        ,  1654.48347936])"
      ]
     },
     "execution_count": 18,
     "metadata": {},
     "output_type": "execute_result"
    }
   ],
   "source": [
    "a = np.abs(item_similarity).sum(axis=1)\n",
    "a"
   ]
  },
  {
   "cell_type": "code",
   "execution_count": 19,
   "metadata": {},
   "outputs": [
    {
     "data": {
      "text/plain": [
       "array([[0, 2],\n",
       "       [1, 3]])"
      ]
     },
     "execution_count": 19,
     "metadata": {},
     "output_type": "execute_result"
    }
   ],
   "source": [
    "a = np.ndarray(shape=(2,2),dtype = int, order = 'F')\n",
    "b = np.abs(a)\n",
    "b"
   ]
  },
  {
   "cell_type": "code",
   "execution_count": 20,
   "metadata": {
    "collapsed": true
   },
   "outputs": [],
   "source": [
    "## User-user CF\n",
    "\n",
    "## Averge rating for each user\n",
    "def prediction(rating,similarity,type):\n",
    "    if type == 'user':\n",
    "        mean_rating = rating.mean(axis=1)\n",
    "        rating_diff = rating-mean_rating[:,np.newaxis]\n",
    "        pred = mean_rating[:,np.newaxis] + similarity.dot(rating_diff)/ np.array([np.abs(similarity).sum(axis=1)]).T\n",
    "    elif type == 'item':\n",
    "        pred = rating.dot(similarity)/np.array([np.abs(similarity).sum(axis=1)])\n",
    "    return pred\n"
   ]
  },
  {
   "cell_type": "code",
   "execution_count": 21,
   "metadata": {
    "collapsed": true
   },
   "outputs": [],
   "source": [
    "item_prediction = prediction(train_data_matrix,item_similarity,type = 'item')\n",
    "user_prediction = prediction(train_data_matrix,user_similarity,type ='user')"
   ]
  },
  {
   "cell_type": "code",
   "execution_count": 22,
   "metadata": {},
   "outputs": [
    {
     "data": {
      "text/plain": [
       "(943, 1682)"
      ]
     },
     "execution_count": 22,
     "metadata": {},
     "output_type": "execute_result"
    }
   ],
   "source": [
    "user_prediction.shape"
   ]
  },
  {
   "cell_type": "code",
   "execution_count": 28,
   "metadata": {},
   "outputs": [
    {
     "data": {
      "text/plain": [
       "0.0"
      ]
     },
     "execution_count": 28,
     "metadata": {},
     "output_type": "execute_result"
    }
   ],
   "source": [
    "c1 = test_data[\"user_id\"] == 1\n",
    "c2 = test_data[\"item_id\"] == 1\n",
    "\n",
    "##train_data[train_data[\"user_id\"] == 38 & train_data[\"item_id\"] == 758]\n",
    "test_data[c1 & c2]\n",
    "test_data_matrix[0,0]"
   ]
  },
  {
   "cell_type": "code",
   "execution_count": 25,
   "metadata": {},
   "outputs": [
    {
     "data": {
      "text/plain": [
       "array([ 5.,  4.,  1., ...,  4.,  4.,  3.])"
      ]
     },
     "execution_count": 25,
     "metadata": {},
     "output_type": "execute_result"
    }
   ],
   "source": [
    "test_data_matrix[test_data_matrix.nonzero()].flatten()"
   ]
  },
  {
   "cell_type": "code",
   "execution_count": 26,
   "metadata": {},
   "outputs": [
    {
     "data": {
      "text/plain": [
       "array([ 0.33933179,  1.36562768,  0.91806102, ...,  0.57697274,\n",
       "        0.17352656,  0.18445515])"
      ]
     },
     "execution_count": 26,
     "metadata": {},
     "output_type": "execute_result"
    }
   ],
   "source": [
    "user_prediction[test_data_matrix.nonzero()].flatten()"
   ]
  },
  {
   "cell_type": "code",
   "execution_count": 32,
   "metadata": {},
   "outputs": [
    {
     "data": {
      "text/plain": [
       "3.1245470214952173"
      ]
     },
     "execution_count": 32,
     "metadata": {},
     "output_type": "execute_result"
    }
   ],
   "source": [
    "from sklearn.metrics import mean_squared_error\n",
    "from math import sqrt\n",
    "\n",
    "def rmse_eval1(prediction,actual):\n",
    "    prediction = prediction[actual.nonzero()].flatten()\n",
    "    actual = actual[actual.nonzero()].flatten()\n",
    "    return sqrt(mean_squared_error(prediction,actual))\n",
    "\n",
    "rmse_eval1(user_prediction,test_data_matrix)"
   ]
  }
 ],
 "metadata": {
  "kernelspec": {
   "display_name": "Python 3",
   "language": "python",
   "name": "python3"
  },
  "language_info": {
   "codemirror_mode": {
    "name": "ipython",
    "version": 3
   },
   "file_extension": ".py",
   "mimetype": "text/x-python",
   "name": "python",
   "nbconvert_exporter": "python",
   "pygments_lexer": "ipython3",
   "version": "3.6.2"
  }
 },
 "nbformat": 4,
 "nbformat_minor": 2
}
